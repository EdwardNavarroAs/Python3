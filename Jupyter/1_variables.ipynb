{
 "cells": [
  {
   "cell_type": "markdown",
   "id": "5bac7681",
   "metadata": {},
   "source": [
    "<h1>Variables en python</h1>\n"
   ]
  },
  {
   "cell_type": "markdown",
   "id": "40d6d94a",
   "metadata": {},
   "source": [
    "<h2>Definición:</h2>\n",
    "<p>Las variables son contenedores para almacenar valores de datos.<br>\n",
    "   Una variable se crea en el momento en el que se le asigna un valor por primera vez.</p>\n"
   ]
  },
  {
   "cell_type": "code",
   "execution_count": 1,
   "id": "85524bd5",
   "metadata": {
    "scrolled": true
   },
   "outputs": [
    {
     "name": "stdout",
     "output_type": "stream",
     "text": [
      "una variable se crea en el momento que se le asigna un valor\n",
      "variable 1 es: 5, variable 2 es John\n"
     ]
    }
   ],
   "source": [
    "print(\"una variable se crea en el momento que se le asigna un valor\")\n",
    "x1 = 5\n",
    "x2 = \"John\"\n",
    "print(f\"variable 1 es: {x1}, variable 2 es {x2}\")"
   ]
  },
  {
   "cell_type": "markdown",
   "id": "cc9c626d",
   "metadata": {},
   "source": [
    "<h2>variables pueden ser de cualquier tipo</h2>\n",
    "<p>No es necesario declarar variables con ningún tipado en particular, incluso pueden cambiar de tipo después de haber sido configuradas.</p>"
   ]
  },
  {
   "cell_type": "code",
   "execution_count": 2,
   "id": "a204e156",
   "metadata": {},
   "outputs": [
    {
     "name": "stdout",
     "output_type": "stream",
     "text": [
      "las variables pueden ser de cualquier tipo y pueden cambiar de tipo una vez declaradas\n",
      "4\n",
      "Sally\n"
     ]
    }
   ],
   "source": [
    "print(\"las variables pueden ser de cualquier tipo y pueden cambiar de tipo una vez declaradas\")\n",
    "x = 4       # x es de tipo entero (int)\n",
    "print(x)\n",
    "x = \"Sally\" # x es de tipo cadena de texto (str)\n",
    "print(x)"
   ]
  },
  {
   "cell_type": "markdown",
   "id": "bc723872",
   "metadata": {},
   "source": [
    "<h2>especificando el tipo de variable</h2>\n",
    "<p>Si se desea especificar el tipo de datos de una variable, es posible hacerlo mediante palabras clave</p>"
   ]
  },
  {
   "cell_type": "code",
   "execution_count": 3,
   "id": "74b58044",
   "metadata": {},
   "outputs": [
    {
     "name": "stdout",
     "output_type": "stream",
     "text": [
      "especificando el tipo de una variable\n",
      "variable 1 3 de tipo <class 'str'>, variable 2 3 de tipo <class 'int'>, variable 3 3.0 de tipo <class 'float'>\n"
     ]
    }
   ],
   "source": [
    "print(\"especificando el tipo de una variable\")\n",
    "x = str(3)    \n",
    "y = int(3)    \n",
    "z = float(3) \n",
    "print(f\"variable 1 {x} de tipo {type(x)}, variable 2 {y} de tipo {type(y)}, variable 3 {z} de tipo {type(z)}\") "
   ]
  },
  {
   "cell_type": "markdown",
   "id": "8c091c14",
   "metadata": {},
   "source": [
    "<h2>variables se diferencian entre mayusculas y minusculas</h2>\n",
    "<p>Los nombres de las variables distinguen entre mayúsculas y minúsculas.</p>\n"
   ]
  },
  {
   "cell_type": "code",
   "execution_count": 5,
   "id": "0c6c5b38",
   "metadata": {},
   "outputs": [
    {
     "name": "stdout",
     "output_type": "stream",
     "text": [
      "variables distinguen de mayusculas y minusculas\n",
      "variable a: 4, es diferente de variable A: Sally\n"
     ]
    }
   ],
   "source": [
    "print(\"variables distinguen de mayusculas y minusculas\")\n",
    "a = 4\n",
    "A = \"Sally\"\n",
    "print(f\"variable a: {a}, es diferente de variable A: {A}\")"
   ]
  },
  {
   "cell_type": "markdown",
   "id": "c4cd8f2b",
   "metadata": {},
   "source": [
    "<h2>Reglas para nombrar variables en Python</h2>\n",
    "<p>El nombre de una variable debe comenzar con una letra o un carácter de subrayado. <br>\n",
    "El nombre de una variable no puede comenzar con un número. <br>\n",
    "El nombre de una variable solo puede contener caracteres alfanuméricos y guiones bajos (Az, 0-9 y _). <br>\n",
    "Los nombres de las variables distinguen entre mayúsculas y minúsculas (edad, Edad y EDAD son variables diferentes). <br>\n",
    "Un nombre de variable no puede ser ninguna de las palabras clave de Python. <br>\n",
    "<!DOCTYPE html>\n",
    "<html lang=\"es\">\n",
    "<head>\n",
    "    <meta charset=\"UTF-8\">\n",
    "    <meta name=\"viewport\" content=\"width=device-width, initial-scale=1.0\">\n",
    "</head>\n",
    "<body>\n",
    "\n",
    "<table border=\"1\">\n",
    "    <tr>\n",
    "        <th>Variables Legales</th>\n",
    "        <th>Variables Ilegales</th>\n",
    "    </tr>\n",
    "    <tr>\n",
    "        <td>myvar = \"John\"</td>\n",
    "        <td>2myvar = \"John\"</td>\n",
    "    </tr>\n",
    "    <tr>\n",
    "        <td>my_var = \"John\"</td>\n",
    "        <td>my-var = \"John\"</td>\n",
    "    </tr>\n",
    "    <tr>\n",
    "        <td>_my_var = \"John\"</td>\n",
    "        <td>my var = \"John\"</td>\n",
    "    </tr>\n",
    "    <tr>\n",
    "        <td>myVar = \"John\"</td>\n",
    "        <td></td>\n",
    "    </tr>\n",
    "    <tr>\n",
    "        <td>MYVAR = \"John\"</td>\n",
    "        <td></td>\n",
    "    </tr>\n",
    "    <tr>\n",
    "        <td>myvar2 = \"John\"</td>\n",
    "        <td></td>\n",
    "    </tr>\n",
    "</table>\n",
    "\n",
    "</body>\n",
    "</html>\n",
    "\n",
    "</p>"
   ]
  },
  {
   "cell_type": "code",
   "execution_count": 6,
   "id": "48e75ee1",
   "metadata": {},
   "outputs": [
    {
     "name": "stdout",
     "output_type": "stream",
     "text": [
      "nombrando variables en python\n",
      "metodo carmel: myVariableName, metodo pascal: MyVariableName, metodo snake: my_variable_name\n"
     ]
    }
   ],
   "source": [
    "print(\"nombrando variables en python\")\n",
    "# metodo Carmel: Cada palabra, excepto la primera, comienza con mayúscula (mas utilizada)\n",
    "myVariableName = \"myVariableName\"\n",
    "# metodo Pascal: Cada palabra comienza con una letra mayúscula\n",
    "MyVariableName = \"MyVariableName\"\n",
    "# metodo Snake: Cada palabra está separada por un guion bajo\n",
    "my_variable_name = \"my_variable_name\"\n",
    "print(f\"metodo carmel: {myVariableName}, metodo pascal: {MyVariableName}, metodo snake: {my_variable_name}\")"
   ]
  },
  {
   "cell_type": "markdown",
   "id": "908a5eb6",
   "metadata": {},
   "source": [
    "<h2>python permite asignar valores a múltiples variables</h2>"
   ]
  },
  {
   "cell_type": "code",
   "execution_count": 7,
   "id": "2770c3eb",
   "metadata": {},
   "outputs": [
    {
     "name": "stdout",
     "output_type": "stream",
     "text": [
      "asignando multiples valores de variables\n",
      "variable 1: Orange, variable 2: Banana, variable 3: Cherry\n"
     ]
    }
   ],
   "source": [
    "print(\"asignando multiples valores de variables\")\n",
    "x, y, z = \"Orange\", \"Banana\", \"Cherry\"\n",
    "print(f\"variable 1: {x}, variable 2: {y}, variable 3: {z}\")"
   ]
  },
  {
   "cell_type": "markdown",
   "id": "078ad662",
   "metadata": {},
   "source": [
    "<h2>python permite asignar el mismo valor a múltiples variables</h2>"
   ]
  },
  {
   "cell_type": "code",
   "execution_count": 8,
   "id": "0d3497b0",
   "metadata": {},
   "outputs": [
    {
     "name": "stdout",
     "output_type": "stream",
     "text": [
      "asignando el mismo valor a multiples variables\n",
      "variable 1: 10, variable 2: 10, variable 3: 10\n"
     ]
    }
   ],
   "source": [
    "print(\"asignando el mismo valor a multiples variables\")\n",
    "x = y = z = 10\n",
    "print(f\"variable 1: {x}, variable 2: {y}, variable 3: {z}\")"
   ]
  }
 ],
 "metadata": {
  "kernelspec": {
   "display_name": "Python 3 (ipykernel)",
   "language": "python",
   "name": "python3"
  },
  "language_info": {
   "codemirror_mode": {
    "name": "ipython",
    "version": 3
   },
   "file_extension": ".py",
   "mimetype": "text/x-python",
   "name": "python",
   "nbconvert_exporter": "python",
   "pygments_lexer": "ipython3",
   "version": "3.11.5"
  }
 },
 "nbformat": 4,
 "nbformat_minor": 5
}
