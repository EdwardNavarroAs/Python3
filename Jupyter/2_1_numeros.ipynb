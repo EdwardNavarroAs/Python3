{
 "cells": [
  {
   "cell_type": "markdown",
   "id": "cd66a5a3",
   "metadata": {},
   "source": [
    "<h1>Tipos de Datos</h1>"
   ]
  },
  {
   "cell_type": "markdown",
   "id": "77e5a503",
   "metadata": {},
   "source": [
    "<h2>Dato Númerico</h2>"
   ]
  },
  {
   "cell_type": "markdown",
   "id": "98cabcd2",
   "metadata": {},
   "source": [
    "<p> Hay tres tipos numéricos en Python: int, float, complex </p>"
   ]
  },
  {
   "cell_type": "code",
   "execution_count": 5,
   "id": "7798db77",
   "metadata": {},
   "outputs": [
    {
     "name": "stdout",
     "output_type": "stream",
     "text": [
      "Las variables de tipo numérico se crean cuando se les asignas un valor\n",
      "tipo de dato entero: (1, <class 'int'>), tipo de dato flotante: (2.8, <class 'float'>), tipo de dato complejo: (1j, <class 'complex'>)\n"
     ]
    }
   ],
   "source": [
    "print(f\"Las variables de tipo numérico se crean cuando se les asignas un valor\")\n",
    "x = 1    # int\n",
    "y = 2.8  # float\n",
    "z = 1j   # complex\n",
    "print(f\"tipo de dato entero: ({x}, {type(x)}), tipo de dato flotante: ({y}, {type(y)}), tipo de dato complejo: ({z}, {type(z)})\")\n"
   ]
  },
  {
   "cell_type": "markdown",
   "id": "b714dd1c",
   "metadata": {},
   "source": [
    "<h2>Números enteros</h2>\n",
    "<p> los números enteros,pueden ser positivos o negativos, sin decimales y de longitud ilimitada</p>"
   ]
  },
  {
   "cell_type": "code",
   "execution_count": 6,
   "id": "dd7795b1",
   "metadata": {},
   "outputs": [
    {
     "name": "stdout",
     "output_type": "stream",
     "text": [
      "Tipos de datos enteros:\n",
      "x1: 35656222554887711, x2: -3255522\n"
     ]
    }
   ],
   "source": [
    "print(\"Tipos de datos enteros:\")\n",
    "x1 = 35656222554887711\n",
    "x2 = -3255522\n",
    "print(f\"x1: {x1}, x2: {x2}\")"
   ]
  },
  {
   "cell_type": "markdown",
   "id": "dfabecf6",
   "metadata": {},
   "source": [
    "<h2>Números decimales</h2>\n",
    "<p> Un número de punto flotante\" es un número, positivo o negativo, que contiene uno o más decimales</p>"
   ]
  },
  {
   "cell_type": "code",
   "execution_count": 7,
   "id": "3a115c7b",
   "metadata": {},
   "outputs": [
    {
     "name": "stdout",
     "output_type": "stream",
     "text": [
      "Tipos de datos de punto flotante:\n",
      "y1: 1.1, y2: 120000.0, y3: -35.59\n"
     ]
    }
   ],
   "source": [
    "print(\"Tipos de datos de punto flotante:\")\n",
    "y1 = 1.10\n",
    "y2 = 12E4\n",
    "y3 = -35.59\n",
    "print(f\"y1: {y1}, y2: {y2}, y3: {y3}\")"
   ]
  },
  {
   "cell_type": "markdown",
   "id": "73eed629",
   "metadata": {},
   "source": [
    "<h2>Números complejos</h2>\n",
    "<p> Los números complejos se escriben con una \"j\" como parte imaginaria</p>"
   ]
  },
  {
   "cell_type": "code",
   "execution_count": 8,
   "id": "e2563aaa",
   "metadata": {},
   "outputs": [
    {
     "name": "stdout",
     "output_type": "stream",
     "text": [
      "Tipos de datos complejos:\n",
      "z1: (3+5j), z2: 5j, z3: (-0-5j)\n"
     ]
    }
   ],
   "source": [
    "print(\"Tipos de datos complejos:\")\n",
    "z1 = 3+5j\n",
    "z2 = 5j\n",
    "z3 = -5j\n",
    "print(f\"z1: {z1}, z2: {z2}, z3: {z3}\")\n"
   ]
  },
  {
   "cell_type": "markdown",
   "id": "d3c38618",
   "metadata": {},
   "source": [
    "<h2>Conversión de tipo</h2>\n",
    "<p> #Es posible convertir de un tipo numerico a otro mediante las funciones de python</p>\n",
    "<p> <b>Nota:</b> No es posible convertir números complejos a otro tipo de número</p>"
   ]
  },
  {
   "cell_type": "code",
   "execution_count": 9,
   "id": "502c3080",
   "metadata": {},
   "outputs": [
    {
     "name": "stdout",
     "output_type": "stream",
     "text": [
      "es posible convertir de un tipo a otro utilizando los metodos de python\n",
      "(dato original: (1, <class 'int'>) --> conversion: (1.0, <class 'float'>)), (dato original: (2.8, <class 'float'>) --> conversion: (2, <class 'int'>)), (dato original: (1j, <class 'complex'>) --> conversion: ((1+0j), <class 'complex'>))\n"
     ]
    }
   ],
   "source": [
    "print(\"es posible convertir de un tipo a otro utilizando los metodos de python\")\n",
    "x = 1\n",
    "y = 2.8  \n",
    "z = 1j   \n",
    "\n",
    "a = float(x)    # convert from int to float\n",
    "b = int(y)      # convert from float to int\n",
    "c = complex(x)  # convert from int to complex\n",
    "print(f\"(dato original: ({x}, {type(x)}) --> conversion: ({a}, {type(a)})), (dato original: ({y}, {type(y)}) --> conversion: ({b}, {type(b)})), (dato original: ({z}, {type(z)}) --> conversion: ({c}, {type(c)}))\")"
   ]
  },
  {
   "cell_type": "markdown",
   "id": "cab4fa85",
   "metadata": {},
   "source": [
    "<h2>Número aleatorio</h2>\n",
    "<p>Python no tiene una función para crear un número aleatorio, sin embargo, si tiene un módulo integrado llamado random que se utiliza para crear números aleatorios</p>"
   ]
  },
  {
   "cell_type": "code",
   "execution_count": 11,
   "id": "18cecb84",
   "metadata": {},
   "outputs": [
    {
     "name": "stdout",
     "output_type": "stream",
     "text": [
      "creando un número aleatorio en python\n",
      "número aleatorio: 5\n"
     ]
    }
   ],
   "source": [
    "import random\n",
    "print(\"creando un número aleatorio en python\")\n",
    "r = random.randrange(1, 10)     # número aleatorio entre 1 y 9 (no incluye el 10)\n",
    "print(f\"número aleatorio: {r}\")"
   ]
  }
 ],
 "metadata": {
  "kernelspec": {
   "display_name": "Python 3 (ipykernel)",
   "language": "python",
   "name": "python3"
  },
  "language_info": {
   "codemirror_mode": {
    "name": "ipython",
    "version": 3
   },
   "file_extension": ".py",
   "mimetype": "text/x-python",
   "name": "python",
   "nbconvert_exporter": "python",
   "pygments_lexer": "ipython3",
   "version": "3.11.5"
  }
 },
 "nbformat": 4,
 "nbformat_minor": 5
}
